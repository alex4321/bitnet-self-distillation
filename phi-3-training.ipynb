{
 "cells": [
  {
   "cell_type": "code",
   "execution_count": 1,
   "metadata": {},
   "outputs": [],
   "source": [
    "from datasets import load_dataset\n",
    "from transformers import AutoTokenizer, AutoModelForCausalLM\n",
    "import torch\n",
    "from torch.optim import AdamW\n",
    "from bitnet_selfdistil import ReLoRAConfig, ReLoRAEvents, ReloraTrainer, StopCondition, lm_losses_calculator\n",
    "from bitnet_selfdistill_utils import phi3_full_gradient_checkpoint_enable\n",
    "from torch.utils.data import DataLoader"
   ]
  },
  {
   "cell_type": "code",
   "execution_count": 2,
   "metadata": {},
   "outputs": [],
   "source": [
    "MODEL_NAME = \"microsoft/Phi-3.5-mini-instruct\"\n",
    "DEVICE = \"cuda:0\""
   ]
  },
  {
   "cell_type": "code",
   "execution_count": 3,
   "metadata": {},
   "outputs": [
    {
     "data": {
      "application/vnd.jupyter.widget-view+json": {
       "model_id": "574617bcf2644960b3208600bb205381",
       "version_major": 2,
       "version_minor": 0
      },
      "text/plain": [
       "Loading checkpoint shards:   0%|          | 0/2 [00:00<?, ?it/s]"
      ]
     },
     "metadata": {},
     "output_type": "display_data"
    }
   ],
   "source": [
    "tokenizer = AutoTokenizer.from_pretrained(MODEL_NAME)\n",
    "model = AutoModelForCausalLM.from_pretrained(\n",
    "    MODEL_NAME,\n",
    "    trust_remote_code=True,\n",
    "    torch_dtype=torch.bfloat16,\n",
    "    attn_implementation=\"flash_attention_2\",\n",
    "    device_map=DEVICE,\n",
    ")"
   ]
  },
  {
   "cell_type": "markdown",
   "metadata": {},
   "source": [
    "## Dataset preparation"
   ]
  },
  {
   "cell_type": "code",
   "execution_count": 4,
   "metadata": {},
   "outputs": [],
   "source": [
    "MAX_LENGTH = 1024"
   ]
  },
  {
   "cell_type": "code",
   "execution_count": 5,
   "metadata": {},
   "outputs": [],
   "source": [
    "def conversation_to_chat_format(item):\n",
    "    roles = item[\"conversation\"][\"role\"]\n",
    "    contents = item[\"conversation\"][\"content\"]\n",
    "    return {\n",
    "        \"conversation\": [\n",
    "            {\"role\": role, \"content\": content}\n",
    "            for role, content in zip(roles, contents)\n",
    "        ]\n",
    "    }\n",
    "\n",
    "\n",
    "def apply_chat_template(item):\n",
    "    return {\n",
    "        \"conversation\": tokenizer.apply_chat_template(item[\"conversation\"], tokenize=False)\n",
    "    }\n",
    "\n",
    "\n",
    "def tokenize_conversation(item):\n",
    "    tokenized = tokenizer(item[\"conversation\"], return_tensors=\"pt\", truncation=True, max_length=MAX_LENGTH)\n",
    "    input_ids = tokenized[\"input_ids\"].squeeze()\n",
    "    attention_mask = tokenized[\"attention_mask\"].squeeze()\n",
    "    item[\"input_ids\"] = input_ids\n",
    "    item[\"attention_mask\"] = attention_mask\n",
    "    item[\"labels\"] = input_ids\n",
    "    return item\n",
    "\n",
    "\n",
    "dataset = load_dataset(\"alex43219/quant-text-dataset\",\n",
    "                       trust_remote_code=True,\n",
    "                       streaming=True)\n",
    "dataset = dataset.map(conversation_to_chat_format, batched=False) \\\n",
    "    .map(apply_chat_template, batched=False) \\\n",
    "    .map(tokenize_conversation, batched=False) \\\n",
    "    .remove_columns(['conversation'])"
   ]
  },
  {
   "cell_type": "code",
   "execution_count": 6,
   "metadata": {},
   "outputs": [
    {
     "name": "stdout",
     "output_type": "stream",
     "text": [
      "{'input_ids': tensor([32010,   887,   526,   385,   319, 29902, 20255, 29889,   887,   674,\n",
      "          367,  2183,   263,  3414, 29889,   887,  1818,  5706,   263, 13173,\n",
      "          322,  1472,  1234, 29889,    13,    13, 12148,  1234,   445,  1139,\n",
      "        29901, 11644,  2113,   278, 27813, 24819, 20604,   297, 29871, 29906,\n",
      "        29900, 29900, 29929, 29973, 32007, 32001,   512, 29871, 29906, 29900,\n",
      "        29900, 29929, 29892,   278, 27813, 24819, 20604,   471, 15074,   304,\n",
      "         2261,   547,  4250,  3304, 29892,   278, 29871, 29946, 29946,   386,\n",
      "         7178,   310,   278,  3303,  3900, 29889,   940,   471,  4207,  4395,\n",
      "          411,   445,   544,  5286,  2738,  9862,   925,  7378,  1156,   540,\n",
      "        12023,   278, 28282,  1270, 29892,   297, 19679,   310,   670,   714,\n",
      "        11235, 14231,   304,  9926,   261,   263,   901,  1302,  3372,  1230,\n",
      "        29892, 11465,  1230, 29892,   322, 10776,  1319,  5534,  5177, 29889,\n",
      "          450, 27990, 27813, 12930, 13771,   630,   373,   967, 10608,   491,\n",
      "        12141,   292,  4250,  3304, 29915, 29879, 22545,  4135,   363,   766,\n",
      "         2817,  1166,   322,   670,   373, 17696, 14231,   304,  9324,   264,\n",
      "         6121, 13487,  4135,   322,  1302, 16453,  1546,  1236,   459,   793,\n",
      "        29889,    13,    13,  4297,   547,  4250,  3304,  1754,  4955,   408,\n",
      "          278,   937, 11715, 29899, 14689,  6673,   310,   278,  3303,  3900,\n",
      "          746,   540,   471, 21865,   630,   373,  5490, 29871, 29906, 29900,\n",
      "        29892, 29871, 29906, 29900, 29900, 29929, 29889,  1094,   278, 27813,\n",
      "        12930, 19310,  1891, 29892,  4250,  3304, 29915, 29879, 28282,  1270,\n",
      "          471, 10902,   491,   263, 18551,   310,   263,  3186,  1728, 20346,\n",
      "        25340,   322,   263,  9063,   358,   304,  9926,  3241,  6121,  7928,\n",
      "          434, 29889,    13,    13,  6716,   310,   278,  7601,  9590,   363,\n",
      "        18851,  4250,  3304,   408,   278, 23957,   993,   310,   278, 27813,\n",
      "        24819, 20604,   471,   670,   716,  2948,   304,  9117,  8898, 29892,\n",
      "          607, 18365,   304,  3033,   482,   322,  2048, 28635,  2710,   411,\n",
      "        19079,   393,   750,  9251, 18860,   260,  1947, 21702,   411,   278,\n",
      "         3303,  3900, 29889,  4250,  3304, 29915, 29879, 17517,  7180,   263,\n",
      "         4549, 19310,   275,   373,  1773,   309,  1008,   284, 13487,  4135,\n",
      "        29892,   411,   263,  8569,   373,  3211,   292,  3619,  5534, 18066,\n",
      "          267, 29889,   512,   670,   931,   297,  8034, 29892,  4250,  3304,\n",
      "         3796,   304,  3211,  7618,  1455,  5626,  1316,   408, 23622,  1735,\n",
      "        29892,   278, 28469,   310, 20346,   410, 29880,  9633,   362, 29892,\n",
      "          322,  3770,  1747,   373, 17696, 28792,  4249, 19079,  1549, 13487,\n",
      "         2454,  2794, 29889,    13,    13,  2744,  1228,  7282,  9565,   310,\n",
      "         4250,  3304, 29915, 29879,  9862,   471,   670,  7232,   945,   882,\n",
      "          310, 13487,  4135,   297,  3211,   292, 28792,   322,  2181,  4637,\n",
      "        29892,  1556,   451,  2197,  1546,   278,  3303,  3900,   322, 10916,\n",
      "          763, 14883,   322, 23653, 29889,  1932,   540,  2113,   278, 27813,\n",
      "        24819, 20604, 29892,   670, 17517,   471,  1044,  3598, 20888,   714,\n",
      "          304, 14883,   304,  3380, 27214,   800,   373,   967, 20346,  1824,\n",
      "        29889,  4525, 14231,   723, 10201,  3275,   304,   278, 14883,   405,\n",
      "         1682,  1945,   897,   284,   297, 29871, 29906, 29900, 29896, 29945,\n",
      "        29892,   607, 18365,   304,  3151, 29890, 14883, 29915, 29879, 20346,\n",
      "         3181,  2187,   297, 14523,   363,  9753,  1953, 18892, 29889, 16478,\n",
      "        29892,   297,  5846, 29871, 29906, 29900, 29896, 29946, 29892,  4250,\n",
      "         3304,  9326,   278,  4226,  2133,   310,  5302,   411, 23653, 29892,\n",
      "          607, 10902,   263,  7282,  4331,  6375,   297, 26032,   292,  5302,\n",
      "         1546,   278,  1023, 10916,   393,   750,   805, 11310,   975,  5320,\n",
      "         1602,  3076, 29889,    13,    13,  2499,  3592,  4250,  3304, 29915,\n",
      "        29879,  3006,   545,   471,   451,  1728, 19341, 29891, 29892,   278,\n",
      "        10608,   491,   278, 27990, 27813, 12930,   304,  9862,   278, 29871,\n",
      "        29906, 29900, 29900, 29929, 27813, 24819, 20604,   304,  1075,   471,\n",
      "          263,  1243,  1166,   304,   670,  9063,   358,   322,  7899,   304,\n",
      "         1653,   263,   901, 10776,  1319,   322, 13149,   635,  6631,  3186,\n",
      "        29889,  3600, 14231,   304,  2048, 28635,  2710,   322,  6564, 13487,\n",
      "         2454,  6851,   304,  5534, 18066,   267,  3933,   385, 18853,   760,\n",
      "          310,   670, 25000,   408,   278, 29871, 29946, 29946,   386,  7178,\n",
      "          310,   278,  3303,  3900, 29889, 32007, 32000]), 'attention_mask': tensor([1, 1, 1, 1, 1, 1, 1, 1, 1, 1, 1, 1, 1, 1, 1, 1, 1, 1, 1, 1, 1, 1, 1, 1,\n",
      "        1, 1, 1, 1, 1, 1, 1, 1, 1, 1, 1, 1, 1, 1, 1, 1, 1, 1, 1, 1, 1, 1, 1, 1,\n",
      "        1, 1, 1, 1, 1, 1, 1, 1, 1, 1, 1, 1, 1, 1, 1, 1, 1, 1, 1, 1, 1, 1, 1, 1,\n",
      "        1, 1, 1, 1, 1, 1, 1, 1, 1, 1, 1, 1, 1, 1, 1, 1, 1, 1, 1, 1, 1, 1, 1, 1,\n",
      "        1, 1, 1, 1, 1, 1, 1, 1, 1, 1, 1, 1, 1, 1, 1, 1, 1, 1, 1, 1, 1, 1, 1, 1,\n",
      "        1, 1, 1, 1, 1, 1, 1, 1, 1, 1, 1, 1, 1, 1, 1, 1, 1, 1, 1, 1, 1, 1, 1, 1,\n",
      "        1, 1, 1, 1, 1, 1, 1, 1, 1, 1, 1, 1, 1, 1, 1, 1, 1, 1, 1, 1, 1, 1, 1, 1,\n",
      "        1, 1, 1, 1, 1, 1, 1, 1, 1, 1, 1, 1, 1, 1, 1, 1, 1, 1, 1, 1, 1, 1, 1, 1,\n",
      "        1, 1, 1, 1, 1, 1, 1, 1, 1, 1, 1, 1, 1, 1, 1, 1, 1, 1, 1, 1, 1, 1, 1, 1,\n",
      "        1, 1, 1, 1, 1, 1, 1, 1, 1, 1, 1, 1, 1, 1, 1, 1, 1, 1, 1, 1, 1, 1, 1, 1,\n",
      "        1, 1, 1, 1, 1, 1, 1, 1, 1, 1, 1, 1, 1, 1, 1, 1, 1, 1, 1, 1, 1, 1, 1, 1,\n",
      "        1, 1, 1, 1, 1, 1, 1, 1, 1, 1, 1, 1, 1, 1, 1, 1, 1, 1, 1, 1, 1, 1, 1, 1,\n",
      "        1, 1, 1, 1, 1, 1, 1, 1, 1, 1, 1, 1, 1, 1, 1, 1, 1, 1, 1, 1, 1, 1, 1, 1,\n",
      "        1, 1, 1, 1, 1, 1, 1, 1, 1, 1, 1, 1, 1, 1, 1, 1, 1, 1, 1, 1, 1, 1, 1, 1,\n",
      "        1, 1, 1, 1, 1, 1, 1, 1, 1, 1, 1, 1, 1, 1, 1, 1, 1, 1, 1, 1, 1, 1, 1, 1,\n",
      "        1, 1, 1, 1, 1, 1, 1, 1, 1, 1, 1, 1, 1, 1, 1, 1, 1, 1, 1, 1, 1, 1, 1, 1,\n",
      "        1, 1, 1, 1, 1, 1, 1, 1, 1, 1, 1, 1, 1, 1, 1, 1, 1, 1, 1, 1, 1, 1, 1, 1,\n",
      "        1, 1, 1, 1, 1, 1, 1, 1, 1, 1, 1, 1, 1, 1, 1, 1, 1, 1, 1, 1, 1, 1, 1, 1,\n",
      "        1, 1, 1, 1, 1, 1, 1, 1, 1, 1, 1, 1, 1, 1, 1, 1, 1, 1, 1, 1, 1, 1, 1, 1,\n",
      "        1, 1, 1, 1, 1, 1, 1, 1, 1, 1, 1, 1, 1, 1, 1, 1, 1, 1, 1, 1, 1, 1, 1, 1,\n",
      "        1, 1, 1, 1, 1, 1, 1, 1, 1, 1, 1, 1, 1, 1, 1, 1, 1, 1, 1, 1, 1, 1, 1, 1,\n",
      "        1, 1, 1, 1, 1, 1, 1, 1, 1, 1, 1, 1, 1, 1, 1, 1, 1, 1, 1, 1, 1, 1, 1, 1,\n",
      "        1, 1, 1, 1, 1, 1, 1, 1, 1, 1, 1, 1, 1, 1, 1, 1, 1, 1, 1, 1, 1, 1, 1, 1,\n",
      "        1, 1, 1, 1, 1, 1, 1, 1, 1, 1, 1, 1, 1, 1, 1, 1, 1, 1, 1, 1, 1, 1, 1, 1,\n",
      "        1, 1, 1, 1, 1, 1, 1, 1, 1, 1, 1, 1, 1, 1, 1, 1, 1, 1, 1, 1, 1]), 'labels': tensor([32010,   887,   526,   385,   319, 29902, 20255, 29889,   887,   674,\n",
      "          367,  2183,   263,  3414, 29889,   887,  1818,  5706,   263, 13173,\n",
      "          322,  1472,  1234, 29889,    13,    13, 12148,  1234,   445,  1139,\n",
      "        29901, 11644,  2113,   278, 27813, 24819, 20604,   297, 29871, 29906,\n",
      "        29900, 29900, 29929, 29973, 32007, 32001,   512, 29871, 29906, 29900,\n",
      "        29900, 29929, 29892,   278, 27813, 24819, 20604,   471, 15074,   304,\n",
      "         2261,   547,  4250,  3304, 29892,   278, 29871, 29946, 29946,   386,\n",
      "         7178,   310,   278,  3303,  3900, 29889,   940,   471,  4207,  4395,\n",
      "          411,   445,   544,  5286,  2738,  9862,   925,  7378,  1156,   540,\n",
      "        12023,   278, 28282,  1270, 29892,   297, 19679,   310,   670,   714,\n",
      "        11235, 14231,   304,  9926,   261,   263,   901,  1302,  3372,  1230,\n",
      "        29892, 11465,  1230, 29892,   322, 10776,  1319,  5534,  5177, 29889,\n",
      "          450, 27990, 27813, 12930, 13771,   630,   373,   967, 10608,   491,\n",
      "        12141,   292,  4250,  3304, 29915, 29879, 22545,  4135,   363,   766,\n",
      "         2817,  1166,   322,   670,   373, 17696, 14231,   304,  9324,   264,\n",
      "         6121, 13487,  4135,   322,  1302, 16453,  1546,  1236,   459,   793,\n",
      "        29889,    13,    13,  4297,   547,  4250,  3304,  1754,  4955,   408,\n",
      "          278,   937, 11715, 29899, 14689,  6673,   310,   278,  3303,  3900,\n",
      "          746,   540,   471, 21865,   630,   373,  5490, 29871, 29906, 29900,\n",
      "        29892, 29871, 29906, 29900, 29900, 29929, 29889,  1094,   278, 27813,\n",
      "        12930, 19310,  1891, 29892,  4250,  3304, 29915, 29879, 28282,  1270,\n",
      "          471, 10902,   491,   263, 18551,   310,   263,  3186,  1728, 20346,\n",
      "        25340,   322,   263,  9063,   358,   304,  9926,  3241,  6121,  7928,\n",
      "          434, 29889,    13,    13,  6716,   310,   278,  7601,  9590,   363,\n",
      "        18851,  4250,  3304,   408,   278, 23957,   993,   310,   278, 27813,\n",
      "        24819, 20604,   471,   670,   716,  2948,   304,  9117,  8898, 29892,\n",
      "          607, 18365,   304,  3033,   482,   322,  2048, 28635,  2710,   411,\n",
      "        19079,   393,   750,  9251, 18860,   260,  1947, 21702,   411,   278,\n",
      "         3303,  3900, 29889,  4250,  3304, 29915, 29879, 17517,  7180,   263,\n",
      "         4549, 19310,   275,   373,  1773,   309,  1008,   284, 13487,  4135,\n",
      "        29892,   411,   263,  8569,   373,  3211,   292,  3619,  5534, 18066,\n",
      "          267, 29889,   512,   670,   931,   297,  8034, 29892,  4250,  3304,\n",
      "         3796,   304,  3211,  7618,  1455,  5626,  1316,   408, 23622,  1735,\n",
      "        29892,   278, 28469,   310, 20346,   410, 29880,  9633,   362, 29892,\n",
      "          322,  3770,  1747,   373, 17696, 28792,  4249, 19079,  1549, 13487,\n",
      "         2454,  2794, 29889,    13,    13,  2744,  1228,  7282,  9565,   310,\n",
      "         4250,  3304, 29915, 29879,  9862,   471,   670,  7232,   945,   882,\n",
      "          310, 13487,  4135,   297,  3211,   292, 28792,   322,  2181,  4637,\n",
      "        29892,  1556,   451,  2197,  1546,   278,  3303,  3900,   322, 10916,\n",
      "          763, 14883,   322, 23653, 29889,  1932,   540,  2113,   278, 27813,\n",
      "        24819, 20604, 29892,   670, 17517,   471,  1044,  3598, 20888,   714,\n",
      "          304, 14883,   304,  3380, 27214,   800,   373,   967, 20346,  1824,\n",
      "        29889,  4525, 14231,   723, 10201,  3275,   304,   278, 14883,   405,\n",
      "         1682,  1945,   897,   284,   297, 29871, 29906, 29900, 29896, 29945,\n",
      "        29892,   607, 18365,   304,  3151, 29890, 14883, 29915, 29879, 20346,\n",
      "         3181,  2187,   297, 14523,   363,  9753,  1953, 18892, 29889, 16478,\n",
      "        29892,   297,  5846, 29871, 29906, 29900, 29896, 29946, 29892,  4250,\n",
      "         3304,  9326,   278,  4226,  2133,   310,  5302,   411, 23653, 29892,\n",
      "          607, 10902,   263,  7282,  4331,  6375,   297, 26032,   292,  5302,\n",
      "         1546,   278,  1023, 10916,   393,   750,   805, 11310,   975,  5320,\n",
      "         1602,  3076, 29889,    13,    13,  2499,  3592,  4250,  3304, 29915,\n",
      "        29879,  3006,   545,   471,   451,  1728, 19341, 29891, 29892,   278,\n",
      "        10608,   491,   278, 27990, 27813, 12930,   304,  9862,   278, 29871,\n",
      "        29906, 29900, 29900, 29929, 27813, 24819, 20604,   304,  1075,   471,\n",
      "          263,  1243,  1166,   304,   670,  9063,   358,   322,  7899,   304,\n",
      "         1653,   263,   901, 10776,  1319,   322, 13149,   635,  6631,  3186,\n",
      "        29889,  3600, 14231,   304,  2048, 28635,  2710,   322,  6564, 13487,\n",
      "         2454,  6851,   304,  5534, 18066,   267,  3933,   385, 18853,   760,\n",
      "          310,   670, 25000,   408,   278, 29871, 29946, 29946,   386,  7178,\n",
      "          310,   278,  3303,  3900, 29889, 32007, 32000])}\n"
     ]
    }
   ],
   "source": [
    "for sample in dataset[\"train\"].take(1):  # take(1) to preview a single sample\n",
    "    print(sample)"
   ]
  },
  {
   "cell_type": "markdown",
   "metadata": {},
   "source": [
    "## Trainer"
   ]
  },
  {
   "cell_type": "code",
   "execution_count": 7,
   "metadata": {},
   "outputs": [],
   "source": [
    "WARMUP_STEPS = 2000\n",
    "LR = 1e-5\n",
    "LORA_RANK = 128\n",
    "RESET_STEPS = 1000\n",
    "CHUNK_WARMUP_STEPS = 100\n",
    "BATCH_SIZE = 1\n",
    "MAX_FULL_LOSSES_LENGTH = 2048"
   ]
  },
  {
   "cell_type": "code",
   "execution_count": 8,
   "metadata": {},
   "outputs": [],
   "source": [
    "def _global_lr(step):\n",
    "    if step < WARMUP_STEPS:\n",
    "        return step / WARMUP_STEPS\n",
    "    else:\n",
    "        return 1.0"
   ]
  },
  {
   "cell_type": "code",
   "execution_count": 9,
   "metadata": {},
   "outputs": [],
   "source": [
    "relora_config = ReLoRAConfig(\n",
    "    blacklisted_modules=[\"lm_head\"],\n",
    "    lora_rank=LORA_RANK,\n",
    "    optimizer_type=AdamW,\n",
    "    optimizer_kwargs={\n",
    "        \"lr\": LR,\n",
    "    },\n",
    "    reset_steps=RESET_STEPS,\n",
    "    chunk_warmup_steps=CHUNK_WARMUP_STEPS,\n",
    "    lr_global=_global_lr,\n",
    ")"
   ]
  },
  {
   "cell_type": "code",
   "execution_count": 10,
   "metadata": {},
   "outputs": [],
   "source": [
    "def _step_end(step, optimizer, losses, loss):\n",
    "    if step % 50 == 0:\n",
    "        print(f\"STEP {step}\")\n",
    "        for loss_name, loss_value in losses.items():\n",
    "            print(f\"{loss_name}: {loss_value.item():.4f}\")"
   ]
  },
  {
   "cell_type": "code",
   "execution_count": 11,
   "metadata": {},
   "outputs": [],
   "source": [
    "def _chunk_end(chunk, step):\n",
    "    print(f\"CHUNK {chunk} FINISHED AT STEP {step}\")\n",
    "    return StopCondition.CONTINUE"
   ]
  },
  {
   "cell_type": "code",
   "execution_count": 12,
   "metadata": {},
   "outputs": [],
   "source": [
    "relora_events = ReLoRAEvents(\n",
    "    on_step_end=_step_end,\n",
    "    on_chunk_end=_chunk_end,\n",
    ")"
   ]
  },
  {
   "cell_type": "code",
   "execution_count": 13,
   "metadata": {},
   "outputs": [],
   "source": [
    "model = phi3_full_gradient_checkpoint_enable(model)"
   ]
  },
  {
   "cell_type": "code",
   "execution_count": 14,
   "metadata": {},
   "outputs": [],
   "source": [
    "trainer = ReloraTrainer(\n",
    "    model=model,\n",
    "    relora_config=relora_config,\n",
    "    events=relora_events,\n",
    "    losses_calculator=lm_losses_calculator(MAX_FULL_LOSSES_LENGTH),\n",
    "    model_kwargs={\n",
    "        \"output_hidden_states\": True,\n",
    "    },\n",
    "    checkpoint_directory=\"checkpoints\"\n",
    ")"
   ]
  },
  {
   "cell_type": "code",
   "execution_count": 15,
   "metadata": {},
   "outputs": [],
   "source": [
    "dataloader_train = DataLoader(dataset[\"train\"], batch_size=BATCH_SIZE)"
   ]
  },
  {
   "cell_type": "code",
   "execution_count": 16,
   "metadata": {},
   "outputs": [],
   "source": [
    "dataloader_test = DataLoader(dataset[\"test\"].take(100), batch_size=BATCH_SIZE)"
   ]
  },
  {
   "cell_type": "code",
   "execution_count": 17,
   "metadata": {},
   "outputs": [
    {
     "name": "stderr",
     "output_type": "stream",
     "text": [
      "2024-11-01 06:01:38,842 - INFO - Evaluation completed with average loss components: {'loss_lm': 25.65352439880371, 'kldiv_loss': 24.615262985229492, 'hidden_state_loss': 26.375, 'loss': 76.61003875732422}\n"
     ]
    },
    {
     "data": {
      "text/plain": [
       "{'loss_lm': 25.65352439880371,\n",
       " 'kldiv_loss': 24.615262985229492,\n",
       " 'hidden_state_loss': 26.375,\n",
       " 'loss': 76.61003875732422}"
      ]
     },
     "execution_count": 17,
     "metadata": {},
     "output_type": "execute_result"
    }
   ],
   "source": [
    "trainer.evaluate(dataloader_test)"
   ]
  },
  {
   "cell_type": "code",
   "execution_count": 18,
   "metadata": {},
   "outputs": [
    {
     "name": "stderr",
     "output_type": "stream",
     "text": [
      "2024-11-01 06:01:38,915 - INFO - Starting training with continue_from_checkpoint=True\n",
      "/home/alex4321/PycharmProjects/bitnet-selfdistill/bitnet_selfdistil/relora_trainer.py:157: FutureWarning: You are using `torch.load` with `weights_only=False` (the current default value), which uses the default pickle module implicitly. It is possible to construct malicious pickle data which will execute arbitrary code during unpickling (See https://github.com/pytorch/pytorch/blob/main/SECURITY.md#untrusted-models for more details). In a future release, the default value for `weights_only` will be flipped to `True`. This limits the functions that could be executed during unpickling. Arbitrary objects will no longer be allowed to be loaded via this mode unless they are explicitly allowlisted by the user via `torch.serialization.add_safe_globals`. We recommend you start setting `weights_only=True` for any use case where you don't have full control of the loaded file. Please open an issue on GitHub for any issues related to this experimental feature.\n",
      "  checkpoint_data = torch.load(fname)\n",
      "2024-11-01 06:01:44,828 - INFO - Loaded checkpoint for chunk 0, resuming from step 1000\n",
      "2024-11-01 06:01:50,067 - INFO - Loaded checkpoint for chunk 1, resuming from step 2000\n",
      "2024-11-01 06:01:53,431 - INFO - Loaded checkpoint for chunk 2, resuming from step 3000\n",
      "2024-11-01 06:01:57,156 - INFO - Starting training on chunk 3 with start_step=3000\n",
      "2024-11-01 06:01:58,746 - INFO - Optimizer initialized with kwargs={'lr': 1e-05}\n"
     ]
    },
    {
     "name": "stdout",
     "output_type": "stream",
     "text": [
      "STEP 3000\n",
      "loss_lm: 6.4923\n",
      "kldiv_loss: 4.2035\n",
      "hidden_state_loss: 7.8438\n",
      "loss: 18.5395\n",
      "STEP 3050\n",
      "loss_lm: 6.4608\n",
      "kldiv_loss: 4.0312\n",
      "hidden_state_loss: 8.0625\n",
      "loss: 18.5545\n",
      "STEP 3100\n",
      "loss_lm: 6.6599\n",
      "kldiv_loss: 5.0897\n",
      "hidden_state_loss: 8.3125\n",
      "loss: 20.0621\n",
      "STEP 3150\n",
      "loss_lm: 5.9641\n",
      "kldiv_loss: 5.2394\n",
      "hidden_state_loss: 7.5625\n",
      "loss: 18.7660\n",
      "STEP 3200\n",
      "loss_lm: 6.4760\n",
      "kldiv_loss: 5.1222\n",
      "hidden_state_loss: 8.0625\n",
      "loss: 19.6607\n",
      "STEP 3250\n",
      "loss_lm: 6.6561\n",
      "kldiv_loss: 4.5692\n",
      "hidden_state_loss: 7.8750\n",
      "loss: 19.1003\n",
      "STEP 3300\n",
      "loss_lm: 6.2684\n",
      "kldiv_loss: 4.8806\n",
      "hidden_state_loss: 8.1875\n",
      "loss: 19.3365\n",
      "STEP 3350\n",
      "loss_lm: 6.8033\n",
      "kldiv_loss: 5.6978\n",
      "hidden_state_loss: 8.5000\n",
      "loss: 21.0012\n"
     ]
    },
    {
     "ename": "KeyboardInterrupt",
     "evalue": "",
     "output_type": "error",
     "traceback": [
      "\u001b[0;31m---------------------------------------------------------------------------\u001b[0m",
      "\u001b[0;31mKeyboardInterrupt\u001b[0m                         Traceback (most recent call last)",
      "Cell \u001b[0;32mIn[18], line 1\u001b[0m\n\u001b[0;32m----> 1\u001b[0m trainer\u001b[38;5;241m.\u001b[39mtrain(\n\u001b[1;32m      2\u001b[0m     dataloader_train,\n\u001b[1;32m      3\u001b[0m     continue_from_checkpoint\u001b[38;5;241m=\u001b[39m\u001b[38;5;28;01mTrue\u001b[39;00m,\n\u001b[1;32m      4\u001b[0m )\n",
      "File \u001b[0;32m~/PycharmProjects/bitnet-selfdistill/bitnet_selfdistil/relora_trainer.py:178\u001b[0m, in \u001b[0;36mReloraTrainer.train\u001b[0;34m(self, dataloader_train, continue_from_checkpoint)\u001b[0m\n\u001b[1;32m    176\u001b[0m     step \u001b[38;5;241m=\u001b[39m \u001b[38;5;28mself\u001b[39m\u001b[38;5;241m.\u001b[39m_load_checkpoint(i, \u001b[38;5;28mself\u001b[39m\u001b[38;5;241m.\u001b[39mcheckpoint_directory)\n\u001b[1;32m    177\u001b[0m \u001b[38;5;28;01melse\u001b[39;00m:\n\u001b[0;32m--> 178\u001b[0m     \u001b[38;5;28mself\u001b[39m\u001b[38;5;241m.\u001b[39m_chunk_train(i, step, batches)\n\u001b[1;32m    179\u001b[0m     step \u001b[38;5;241m+\u001b[39m\u001b[38;5;241m=\u001b[39m \u001b[38;5;28mlen\u001b[39m(batches)\n\u001b[1;32m    180\u001b[0m     \u001b[38;5;28;01mif\u001b[39;00m \u001b[38;5;28mself\u001b[39m\u001b[38;5;241m.\u001b[39mcheckpoint_directory \u001b[38;5;129;01mis\u001b[39;00m \u001b[38;5;129;01mnot\u001b[39;00m \u001b[38;5;28;01mNone\u001b[39;00m:\n",
      "File \u001b[0;32m~/PycharmProjects/bitnet-selfdistill/bitnet_selfdistil/relora_trainer.py:120\u001b[0m, in \u001b[0;36mReloraTrainer._chunk_train\u001b[0;34m(self, index, start_step, batches)\u001b[0m\n\u001b[1;32m    118\u001b[0m student_outputs \u001b[38;5;241m=\u001b[39m \u001b[38;5;28mself\u001b[39m\u001b[38;5;241m.\u001b[39mmodel(\u001b[38;5;241m*\u001b[39m\u001b[38;5;241m*\u001b[39mbatch, \u001b[38;5;241m*\u001b[39m\u001b[38;5;241m*\u001b[39mmodel_kwargs)\n\u001b[1;32m    119\u001b[0m loss_components, loss \u001b[38;5;241m=\u001b[39m \u001b[38;5;28mself\u001b[39m\u001b[38;5;241m.\u001b[39mlosses_calculator(teacher_outputs, student_outputs)\n\u001b[0;32m--> 120\u001b[0m loss\u001b[38;5;241m.\u001b[39mbackward()\n\u001b[1;32m    121\u001b[0m optimizer\u001b[38;5;241m.\u001b[39mstep()\n\u001b[1;32m    122\u001b[0m scheduler\u001b[38;5;241m.\u001b[39mstep()\n",
      "File \u001b[0;32m~/anaconda3/envs/quant-distillation/lib/python3.12/site-packages/torch/_tensor.py:581\u001b[0m, in \u001b[0;36mTensor.backward\u001b[0;34m(self, gradient, retain_graph, create_graph, inputs)\u001b[0m\n\u001b[1;32m    571\u001b[0m \u001b[38;5;28;01mif\u001b[39;00m has_torch_function_unary(\u001b[38;5;28mself\u001b[39m):\n\u001b[1;32m    572\u001b[0m     \u001b[38;5;28;01mreturn\u001b[39;00m handle_torch_function(\n\u001b[1;32m    573\u001b[0m         Tensor\u001b[38;5;241m.\u001b[39mbackward,\n\u001b[1;32m    574\u001b[0m         (\u001b[38;5;28mself\u001b[39m,),\n\u001b[0;32m   (...)\u001b[0m\n\u001b[1;32m    579\u001b[0m         inputs\u001b[38;5;241m=\u001b[39minputs,\n\u001b[1;32m    580\u001b[0m     )\n\u001b[0;32m--> 581\u001b[0m torch\u001b[38;5;241m.\u001b[39mautograd\u001b[38;5;241m.\u001b[39mbackward(\n\u001b[1;32m    582\u001b[0m     \u001b[38;5;28mself\u001b[39m, gradient, retain_graph, create_graph, inputs\u001b[38;5;241m=\u001b[39minputs\n\u001b[1;32m    583\u001b[0m )\n",
      "File \u001b[0;32m~/anaconda3/envs/quant-distillation/lib/python3.12/site-packages/torch/autograd/__init__.py:347\u001b[0m, in \u001b[0;36mbackward\u001b[0;34m(tensors, grad_tensors, retain_graph, create_graph, grad_variables, inputs)\u001b[0m\n\u001b[1;32m    342\u001b[0m     retain_graph \u001b[38;5;241m=\u001b[39m create_graph\n\u001b[1;32m    344\u001b[0m \u001b[38;5;66;03m# The reason we repeat the same comment below is that\u001b[39;00m\n\u001b[1;32m    345\u001b[0m \u001b[38;5;66;03m# some Python versions print out the first line of a multi-line function\u001b[39;00m\n\u001b[1;32m    346\u001b[0m \u001b[38;5;66;03m# calls in the traceback and some print out the last line\u001b[39;00m\n\u001b[0;32m--> 347\u001b[0m _engine_run_backward(\n\u001b[1;32m    348\u001b[0m     tensors,\n\u001b[1;32m    349\u001b[0m     grad_tensors_,\n\u001b[1;32m    350\u001b[0m     retain_graph,\n\u001b[1;32m    351\u001b[0m     create_graph,\n\u001b[1;32m    352\u001b[0m     inputs,\n\u001b[1;32m    353\u001b[0m     allow_unreachable\u001b[38;5;241m=\u001b[39m\u001b[38;5;28;01mTrue\u001b[39;00m,\n\u001b[1;32m    354\u001b[0m     accumulate_grad\u001b[38;5;241m=\u001b[39m\u001b[38;5;28;01mTrue\u001b[39;00m,\n\u001b[1;32m    355\u001b[0m )\n",
      "File \u001b[0;32m~/anaconda3/envs/quant-distillation/lib/python3.12/site-packages/torch/autograd/graph.py:825\u001b[0m, in \u001b[0;36m_engine_run_backward\u001b[0;34m(t_outputs, *args, **kwargs)\u001b[0m\n\u001b[1;32m    823\u001b[0m     unregister_hooks \u001b[38;5;241m=\u001b[39m _register_logging_hooks_on_whole_graph(t_outputs)\n\u001b[1;32m    824\u001b[0m \u001b[38;5;28;01mtry\u001b[39;00m:\n\u001b[0;32m--> 825\u001b[0m     \u001b[38;5;28;01mreturn\u001b[39;00m Variable\u001b[38;5;241m.\u001b[39m_execution_engine\u001b[38;5;241m.\u001b[39mrun_backward(  \u001b[38;5;66;03m# Calls into the C++ engine to run the backward pass\u001b[39;00m\n\u001b[1;32m    826\u001b[0m         t_outputs, \u001b[38;5;241m*\u001b[39margs, \u001b[38;5;241m*\u001b[39m\u001b[38;5;241m*\u001b[39mkwargs\n\u001b[1;32m    827\u001b[0m     )  \u001b[38;5;66;03m# Calls into the C++ engine to run the backward pass\u001b[39;00m\n\u001b[1;32m    828\u001b[0m \u001b[38;5;28;01mfinally\u001b[39;00m:\n\u001b[1;32m    829\u001b[0m     \u001b[38;5;28;01mif\u001b[39;00m attach_logging_hooks:\n",
      "\u001b[0;31mKeyboardInterrupt\u001b[0m: "
     ]
    }
   ],
   "source": [
    "trainer.train(\n",
    "    dataloader_train,\n",
    "    continue_from_checkpoint=True,\n",
    ")"
   ]
  },
  {
   "cell_type": "code",
   "execution_count": null,
   "metadata": {},
   "outputs": [],
   "source": [
    "trainer.evaluate(dataloader_test)"
   ]
  }
 ],
 "metadata": {
  "kernelspec": {
   "display_name": "quant-distillation",
   "language": "python",
   "name": "python3"
  },
  "language_info": {
   "codemirror_mode": {
    "name": "ipython",
    "version": 3
   },
   "file_extension": ".py",
   "mimetype": "text/x-python",
   "name": "python",
   "nbconvert_exporter": "python",
   "pygments_lexer": "ipython3",
   "version": "3.12.7"
  }
 },
 "nbformat": 4,
 "nbformat_minor": 2
}
