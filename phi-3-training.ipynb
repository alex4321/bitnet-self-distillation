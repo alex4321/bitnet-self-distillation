{
 "cells": [
  {
   "cell_type": "code",
   "execution_count": 1,
   "metadata": {},
   "outputs": [],
   "source": [
    "from datasets import load_dataset\n",
    "from transformers import AutoTokenizer, AutoModelForCausalLM\n",
    "import torch\n",
    "from torch.optim import AdamW\n",
    "from bitnet_selfdistil import ReLoRAConfig, ReLoRAEvents, ReloraTrainer, StopCondition, lm_losses_calculator\n",
    "from bitnet_selfdistill_utils import phi3_full_gradient_checkpoint_enable\n",
    "from torch.utils.data import DataLoader, IterableDataset\n",
    "from torch.utils.tensorboard import SummaryWriter"
   ]
  },
  {
   "cell_type": "code",
   "execution_count": 2,
   "metadata": {},
   "outputs": [],
   "source": [
    "MODEL_NAME = \"microsoft/Phi-3.5-mini-instruct\"\n",
    "DEVICE = \"cuda:0\""
   ]
  },
  {
   "cell_type": "code",
   "execution_count": 3,
   "metadata": {},
   "outputs": [
    {
     "data": {
      "application/vnd.jupyter.widget-view+json": {
       "model_id": "b1d80f6af51744dca7010cac697bcd2f",
       "version_major": 2,
       "version_minor": 0
      },
      "text/plain": [
       "Loading checkpoint shards:   0%|          | 0/2 [00:00<?, ?it/s]"
      ]
     },
     "metadata": {},
     "output_type": "display_data"
    }
   ],
   "source": [
    "tokenizer = AutoTokenizer.from_pretrained(MODEL_NAME)\n",
    "model = AutoModelForCausalLM.from_pretrained(\n",
    "    MODEL_NAME,\n",
    "    trust_remote_code=True,\n",
    "    torch_dtype=torch.bfloat16,\n",
    "    attn_implementation=\"flash_attention_2\",\n",
    "    device_map=DEVICE,\n",
    ")"
   ]
  },
  {
   "cell_type": "markdown",
   "metadata": {},
   "source": [
    "## Dataset preparation"
   ]
  },
  {
   "cell_type": "code",
   "execution_count": 4,
   "metadata": {},
   "outputs": [],
   "source": [
    "MAX_LENGTH = 1024"
   ]
  },
  {
   "cell_type": "code",
   "execution_count": 5,
   "metadata": {},
   "outputs": [],
   "source": [
    "def conversation_to_chat_format(item):\n",
    "    roles = item[\"conversation\"][\"role\"]\n",
    "    contents = item[\"conversation\"][\"content\"]\n",
    "    return {\n",
    "        \"conversation\": [\n",
    "            {\"role\": role, \"content\": content}\n",
    "            for role, content in zip(roles, contents)\n",
    "        ]\n",
    "    }\n",
    "\n",
    "\n",
    "def apply_chat_template(item):\n",
    "    return {\n",
    "        \"conversation\": tokenizer.apply_chat_template(item[\"conversation\"], tokenize=False)\n",
    "    }\n",
    "\n",
    "\n",
    "def tokenize_conversation(item):\n",
    "    tokenized = tokenizer(item[\"conversation\"], return_tensors=\"pt\", truncation=True, max_length=MAX_LENGTH)\n",
    "    input_ids = tokenized[\"input_ids\"].squeeze()\n",
    "    attention_mask = tokenized[\"attention_mask\"].squeeze()\n",
    "    item[\"input_ids\"] = input_ids\n",
    "    item[\"attention_mask\"] = attention_mask\n",
    "    item[\"labels\"] = input_ids\n",
    "    return item\n",
    "\n",
    "\n",
    "dataset = load_dataset(\"alex43219/quant-text-dataset\",\n",
    "                       trust_remote_code=True,\n",
    "                       streaming=True)\n",
    "dataset = dataset.map(conversation_to_chat_format, batched=False) \\\n",
    "    .map(apply_chat_template, batched=False) \\\n",
    "    .map(tokenize_conversation, batched=False) \\\n",
    "    .remove_columns(['conversation'])"
   ]
  },
  {
   "cell_type": "code",
   "execution_count": 6,
   "metadata": {},
   "outputs": [
    {
     "name": "stdout",
     "output_type": "stream",
     "text": [
      "{'input_ids': tensor([32010,   887,   526,   385,   319, 29902, 20255, 29889,   887,   674,\n",
      "          367,  2183,   263,  3414, 29889,   887,  1818,  5706,   263, 13173,\n",
      "          322,  1472,  1234, 29889,    13,    13, 12148,  1234,   445,  1139,\n",
      "        29901, 11644,  2113,   278, 27813, 24819, 20604,   297, 29871, 29906,\n",
      "        29900, 29900, 29929, 29973, 32007, 32001,   512, 29871, 29906, 29900,\n",
      "        29900, 29929, 29892,   278, 27813, 24819, 20604,   471, 15074,   304,\n",
      "         2261,   547,  4250,  3304, 29892,   278, 29871, 29946, 29946,   386,\n",
      "         7178,   310,   278,  3303,  3900, 29889,   940,   471,  4207,  4395,\n",
      "          411,   445,   544,  5286,  2738,  9862,   925,  7378,  1156,   540,\n",
      "        12023,   278, 28282,  1270, 29892,   297, 19679,   310,   670,   714,\n",
      "        11235, 14231,   304,  9926,   261,   263,   901,  1302,  3372,  1230,\n",
      "        29892, 11465,  1230, 29892,   322, 10776,  1319,  5534,  5177, 29889,\n",
      "          450, 27990, 27813, 12930, 13771,   630,   373,   967, 10608,   491,\n",
      "        12141,   292,  4250,  3304, 29915, 29879, 22545,  4135,   363,   766,\n",
      "         2817,  1166,   322,   670,   373, 17696, 14231,   304,  9324,   264,\n",
      "         6121, 13487,  4135,   322,  1302, 16453,  1546,  1236,   459,   793,\n",
      "        29889,    13,    13,  4297,   547,  4250,  3304,  1754,  4955,   408,\n",
      "          278,   937, 11715, 29899, 14689,  6673,   310,   278,  3303,  3900,\n",
      "          746,   540,   471, 21865,   630,   373,  5490, 29871, 29906, 29900,\n",
      "        29892, 29871, 29906, 29900, 29900, 29929, 29889,  1094,   278, 27813,\n",
      "        12930, 19310,  1891, 29892,  4250,  3304, 29915, 29879, 28282,  1270,\n",
      "          471, 10902,   491,   263, 18551,   310,   263,  3186,  1728, 20346,\n",
      "        25340,   322,   263,  9063,   358,   304,  9926,  3241,  6121,  7928,\n",
      "          434, 29889,    13,    13,  6716,   310,   278,  7601,  9590,   363,\n",
      "        18851,  4250,  3304,   408,   278, 23957,   993,   310,   278, 27813,\n",
      "        24819, 20604,   471,   670,   716,  2948,   304,  9117,  8898, 29892,\n",
      "          607, 18365,   304,  3033,   482,   322,  2048, 28635,  2710,   411,\n",
      "        19079,   393,   750,  9251, 18860,   260,  1947, 21702,   411,   278,\n",
      "         3303,  3900, 29889,  4250,  3304, 29915, 29879, 17517,  7180,   263,\n",
      "         4549, 19310,   275,   373,  1773,   309,  1008,   284, 13487,  4135,\n",
      "        29892,   411,   263,  8569,   373,  3211,   292,  3619,  5534, 18066,\n",
      "          267, 29889,   512,   670,   931,   297,  8034, 29892,  4250,  3304,\n",
      "         3796,   304,  3211,  7618,  1455,  5626,  1316,   408, 23622,  1735,\n",
      "        29892,   278, 28469,   310, 20346,   410, 29880,  9633,   362, 29892,\n",
      "          322,  3770,  1747,   373, 17696, 28792,  4249, 19079,  1549, 13487,\n",
      "         2454,  2794, 29889,    13,    13,  2744,  1228,  7282,  9565,   310,\n",
      "         4250,  3304, 29915, 29879,  9862,   471,   670,  7232,   945,   882,\n",
      "          310, 13487,  4135,   297,  3211,   292, 28792,   322,  2181,  4637,\n",
      "        29892,  1556,   451,  2197,  1546,   278,  3303,  3900,   322, 10916,\n",
      "          763, 14883,   322, 23653, 29889,  1932,   540,  2113,   278, 27813,\n",
      "        24819, 20604, 29892,   670, 17517,   471,  1044,  3598, 20888,   714,\n",
      "          304, 14883,   304,  3380, 27214,   800,   373,   967, 20346,  1824,\n",
      "        29889,  4525, 14231,   723, 10201,  3275,   304,   278, 14883,   405,\n",
      "         1682,  1945,   897,   284,   297, 29871, 29906, 29900, 29896, 29945,\n",
      "        29892,   607, 18365,   304,  3151, 29890, 14883, 29915, 29879, 20346,\n",
      "         3181,  2187,   297, 14523,   363,  9753,  1953, 18892, 29889, 16478,\n",
      "        29892,   297,  5846, 29871, 29906, 29900, 29896, 29946, 29892,  4250,\n",
      "         3304,  9326,   278,  4226,  2133,   310,  5302,   411, 23653, 29892,\n",
      "          607, 10902,   263,  7282,  4331,  6375,   297, 26032,   292,  5302,\n",
      "         1546,   278,  1023, 10916,   393,   750,   805, 11310,   975,  5320,\n",
      "         1602,  3076, 29889,    13,    13,  2499,  3592,  4250,  3304, 29915,\n",
      "        29879,  3006,   545,   471,   451,  1728, 19341, 29891, 29892,   278,\n",
      "        10608,   491,   278, 27990, 27813, 12930,   304,  9862,   278, 29871,\n",
      "        29906, 29900, 29900, 29929, 27813, 24819, 20604,   304,  1075,   471,\n",
      "          263,  1243,  1166,   304,   670,  9063,   358,   322,  7899,   304,\n",
      "         1653,   263,   901, 10776,  1319,   322, 13149,   635,  6631,  3186,\n",
      "        29889,  3600, 14231,   304,  2048, 28635,  2710,   322,  6564, 13487,\n",
      "         2454,  6851,   304,  5534, 18066,   267,  3933,   385, 18853,   760,\n",
      "          310,   670, 25000,   408,   278, 29871, 29946, 29946,   386,  7178,\n",
      "          310,   278,  3303,  3900, 29889, 32007, 32000]), 'attention_mask': tensor([1, 1, 1, 1, 1, 1, 1, 1, 1, 1, 1, 1, 1, 1, 1, 1, 1, 1, 1, 1, 1, 1, 1, 1,\n",
      "        1, 1, 1, 1, 1, 1, 1, 1, 1, 1, 1, 1, 1, 1, 1, 1, 1, 1, 1, 1, 1, 1, 1, 1,\n",
      "        1, 1, 1, 1, 1, 1, 1, 1, 1, 1, 1, 1, 1, 1, 1, 1, 1, 1, 1, 1, 1, 1, 1, 1,\n",
      "        1, 1, 1, 1, 1, 1, 1, 1, 1, 1, 1, 1, 1, 1, 1, 1, 1, 1, 1, 1, 1, 1, 1, 1,\n",
      "        1, 1, 1, 1, 1, 1, 1, 1, 1, 1, 1, 1, 1, 1, 1, 1, 1, 1, 1, 1, 1, 1, 1, 1,\n",
      "        1, 1, 1, 1, 1, 1, 1, 1, 1, 1, 1, 1, 1, 1, 1, 1, 1, 1, 1, 1, 1, 1, 1, 1,\n",
      "        1, 1, 1, 1, 1, 1, 1, 1, 1, 1, 1, 1, 1, 1, 1, 1, 1, 1, 1, 1, 1, 1, 1, 1,\n",
      "        1, 1, 1, 1, 1, 1, 1, 1, 1, 1, 1, 1, 1, 1, 1, 1, 1, 1, 1, 1, 1, 1, 1, 1,\n",
      "        1, 1, 1, 1, 1, 1, 1, 1, 1, 1, 1, 1, 1, 1, 1, 1, 1, 1, 1, 1, 1, 1, 1, 1,\n",
      "        1, 1, 1, 1, 1, 1, 1, 1, 1, 1, 1, 1, 1, 1, 1, 1, 1, 1, 1, 1, 1, 1, 1, 1,\n",
      "        1, 1, 1, 1, 1, 1, 1, 1, 1, 1, 1, 1, 1, 1, 1, 1, 1, 1, 1, 1, 1, 1, 1, 1,\n",
      "        1, 1, 1, 1, 1, 1, 1, 1, 1, 1, 1, 1, 1, 1, 1, 1, 1, 1, 1, 1, 1, 1, 1, 1,\n",
      "        1, 1, 1, 1, 1, 1, 1, 1, 1, 1, 1, 1, 1, 1, 1, 1, 1, 1, 1, 1, 1, 1, 1, 1,\n",
      "        1, 1, 1, 1, 1, 1, 1, 1, 1, 1, 1, 1, 1, 1, 1, 1, 1, 1, 1, 1, 1, 1, 1, 1,\n",
      "        1, 1, 1, 1, 1, 1, 1, 1, 1, 1, 1, 1, 1, 1, 1, 1, 1, 1, 1, 1, 1, 1, 1, 1,\n",
      "        1, 1, 1, 1, 1, 1, 1, 1, 1, 1, 1, 1, 1, 1, 1, 1, 1, 1, 1, 1, 1, 1, 1, 1,\n",
      "        1, 1, 1, 1, 1, 1, 1, 1, 1, 1, 1, 1, 1, 1, 1, 1, 1, 1, 1, 1, 1, 1, 1, 1,\n",
      "        1, 1, 1, 1, 1, 1, 1, 1, 1, 1, 1, 1, 1, 1, 1, 1, 1, 1, 1, 1, 1, 1, 1, 1,\n",
      "        1, 1, 1, 1, 1, 1, 1, 1, 1, 1, 1, 1, 1, 1, 1, 1, 1, 1, 1, 1, 1, 1, 1, 1,\n",
      "        1, 1, 1, 1, 1, 1, 1, 1, 1, 1, 1, 1, 1, 1, 1, 1, 1, 1, 1, 1, 1, 1, 1, 1,\n",
      "        1, 1, 1, 1, 1, 1, 1, 1, 1, 1, 1, 1, 1, 1, 1, 1, 1, 1, 1, 1, 1, 1, 1, 1,\n",
      "        1, 1, 1, 1, 1, 1, 1, 1, 1, 1, 1, 1, 1, 1, 1, 1, 1, 1, 1, 1, 1, 1, 1, 1,\n",
      "        1, 1, 1, 1, 1, 1, 1, 1, 1, 1, 1, 1, 1, 1, 1, 1, 1, 1, 1, 1, 1, 1, 1, 1,\n",
      "        1, 1, 1, 1, 1, 1, 1, 1, 1, 1, 1, 1, 1, 1, 1, 1, 1, 1, 1, 1, 1, 1, 1, 1,\n",
      "        1, 1, 1, 1, 1, 1, 1, 1, 1, 1, 1, 1, 1, 1, 1, 1, 1, 1, 1, 1, 1]), 'labels': tensor([32010,   887,   526,   385,   319, 29902, 20255, 29889,   887,   674,\n",
      "          367,  2183,   263,  3414, 29889,   887,  1818,  5706,   263, 13173,\n",
      "          322,  1472,  1234, 29889,    13,    13, 12148,  1234,   445,  1139,\n",
      "        29901, 11644,  2113,   278, 27813, 24819, 20604,   297, 29871, 29906,\n",
      "        29900, 29900, 29929, 29973, 32007, 32001,   512, 29871, 29906, 29900,\n",
      "        29900, 29929, 29892,   278, 27813, 24819, 20604,   471, 15074,   304,\n",
      "         2261,   547,  4250,  3304, 29892,   278, 29871, 29946, 29946,   386,\n",
      "         7178,   310,   278,  3303,  3900, 29889,   940,   471,  4207,  4395,\n",
      "          411,   445,   544,  5286,  2738,  9862,   925,  7378,  1156,   540,\n",
      "        12023,   278, 28282,  1270, 29892,   297, 19679,   310,   670,   714,\n",
      "        11235, 14231,   304,  9926,   261,   263,   901,  1302,  3372,  1230,\n",
      "        29892, 11465,  1230, 29892,   322, 10776,  1319,  5534,  5177, 29889,\n",
      "          450, 27990, 27813, 12930, 13771,   630,   373,   967, 10608,   491,\n",
      "        12141,   292,  4250,  3304, 29915, 29879, 22545,  4135,   363,   766,\n",
      "         2817,  1166,   322,   670,   373, 17696, 14231,   304,  9324,   264,\n",
      "         6121, 13487,  4135,   322,  1302, 16453,  1546,  1236,   459,   793,\n",
      "        29889,    13,    13,  4297,   547,  4250,  3304,  1754,  4955,   408,\n",
      "          278,   937, 11715, 29899, 14689,  6673,   310,   278,  3303,  3900,\n",
      "          746,   540,   471, 21865,   630,   373,  5490, 29871, 29906, 29900,\n",
      "        29892, 29871, 29906, 29900, 29900, 29929, 29889,  1094,   278, 27813,\n",
      "        12930, 19310,  1891, 29892,  4250,  3304, 29915, 29879, 28282,  1270,\n",
      "          471, 10902,   491,   263, 18551,   310,   263,  3186,  1728, 20346,\n",
      "        25340,   322,   263,  9063,   358,   304,  9926,  3241,  6121,  7928,\n",
      "          434, 29889,    13,    13,  6716,   310,   278,  7601,  9590,   363,\n",
      "        18851,  4250,  3304,   408,   278, 23957,   993,   310,   278, 27813,\n",
      "        24819, 20604,   471,   670,   716,  2948,   304,  9117,  8898, 29892,\n",
      "          607, 18365,   304,  3033,   482,   322,  2048, 28635,  2710,   411,\n",
      "        19079,   393,   750,  9251, 18860,   260,  1947, 21702,   411,   278,\n",
      "         3303,  3900, 29889,  4250,  3304, 29915, 29879, 17517,  7180,   263,\n",
      "         4549, 19310,   275,   373,  1773,   309,  1008,   284, 13487,  4135,\n",
      "        29892,   411,   263,  8569,   373,  3211,   292,  3619,  5534, 18066,\n",
      "          267, 29889,   512,   670,   931,   297,  8034, 29892,  4250,  3304,\n",
      "         3796,   304,  3211,  7618,  1455,  5626,  1316,   408, 23622,  1735,\n",
      "        29892,   278, 28469,   310, 20346,   410, 29880,  9633,   362, 29892,\n",
      "          322,  3770,  1747,   373, 17696, 28792,  4249, 19079,  1549, 13487,\n",
      "         2454,  2794, 29889,    13,    13,  2744,  1228,  7282,  9565,   310,\n",
      "         4250,  3304, 29915, 29879,  9862,   471,   670,  7232,   945,   882,\n",
      "          310, 13487,  4135,   297,  3211,   292, 28792,   322,  2181,  4637,\n",
      "        29892,  1556,   451,  2197,  1546,   278,  3303,  3900,   322, 10916,\n",
      "          763, 14883,   322, 23653, 29889,  1932,   540,  2113,   278, 27813,\n",
      "        24819, 20604, 29892,   670, 17517,   471,  1044,  3598, 20888,   714,\n",
      "          304, 14883,   304,  3380, 27214,   800,   373,   967, 20346,  1824,\n",
      "        29889,  4525, 14231,   723, 10201,  3275,   304,   278, 14883,   405,\n",
      "         1682,  1945,   897,   284,   297, 29871, 29906, 29900, 29896, 29945,\n",
      "        29892,   607, 18365,   304,  3151, 29890, 14883, 29915, 29879, 20346,\n",
      "         3181,  2187,   297, 14523,   363,  9753,  1953, 18892, 29889, 16478,\n",
      "        29892,   297,  5846, 29871, 29906, 29900, 29896, 29946, 29892,  4250,\n",
      "         3304,  9326,   278,  4226,  2133,   310,  5302,   411, 23653, 29892,\n",
      "          607, 10902,   263,  7282,  4331,  6375,   297, 26032,   292,  5302,\n",
      "         1546,   278,  1023, 10916,   393,   750,   805, 11310,   975,  5320,\n",
      "         1602,  3076, 29889,    13,    13,  2499,  3592,  4250,  3304, 29915,\n",
      "        29879,  3006,   545,   471,   451,  1728, 19341, 29891, 29892,   278,\n",
      "        10608,   491,   278, 27990, 27813, 12930,   304,  9862,   278, 29871,\n",
      "        29906, 29900, 29900, 29929, 27813, 24819, 20604,   304,  1075,   471,\n",
      "          263,  1243,  1166,   304,   670,  9063,   358,   322,  7899,   304,\n",
      "         1653,   263,   901, 10776,  1319,   322, 13149,   635,  6631,  3186,\n",
      "        29889,  3600, 14231,   304,  2048, 28635,  2710,   322,  6564, 13487,\n",
      "         2454,  6851,   304,  5534, 18066,   267,  3933,   385, 18853,   760,\n",
      "          310,   670, 25000,   408,   278, 29871, 29946, 29946,   386,  7178,\n",
      "          310,   278,  3303,  3900, 29889, 32007, 32000])}\n"
     ]
    }
   ],
   "source": [
    "for sample in dataset[\"train\"].take(1):  # take(1) to preview a single sample\n",
    "    print(sample)"
   ]
  },
  {
   "cell_type": "markdown",
   "metadata": {},
   "source": [
    "## Trainer"
   ]
  },
  {
   "cell_type": "code",
   "execution_count": 7,
   "metadata": {},
   "outputs": [],
   "source": [
    "WARMUP_STEPS = 2000\n",
    "LR = 1e-5\n",
    "LORA_RANK = 128\n",
    "RESET_STEPS = 1000\n",
    "CHUNK_WARMUP_STEPS = 100\n",
    "BATCH_SIZE = 1\n",
    "MAX_FULL_LOSSES_LENGTH = 2048\n",
    "TEST_ROLLING_WINDOW_SIZE = 1000\n",
    "\n",
    "LOG_DIR = \"bitnet-selfdistil-tensorboard\""
   ]
  },
  {
   "cell_type": "code",
   "execution_count": 8,
   "metadata": {},
   "outputs": [],
   "source": [
    "tensorboard_writer = SummaryWriter(log_dir=LOG_DIR)"
   ]
  },
  {
   "cell_type": "code",
   "execution_count": 9,
   "metadata": {},
   "outputs": [],
   "source": [
    "# For training the model I will use endless iterator on top of my dataset\n",
    "def _endless_iterator(dataset):\n",
    "    while True:\n",
    "        for sample in dataset:\n",
    "            yield sample\n",
    "\n",
    "\n",
    "class _EndlessDataset(IterableDataset):\n",
    "    def __init__(self, dataset):\n",
    "        self.dataset = dataset\n",
    "\n",
    "    def __iter__(self):\n",
    "        return _endless_iterator(self.dataset)\n",
    "\n",
    "\n",
    "dataloader_train = DataLoader(_EndlessDataset(dataset[\"train\"]), batch_size=BATCH_SIZE)"
   ]
  },
  {
   "cell_type": "code",
   "execution_count": 10,
   "metadata": {},
   "outputs": [],
   "source": [
    "def _chunked_dataloader_iterator(dataset, chunk_size):\n",
    "    def _iterate_batches():\n",
    "        records = []\n",
    "        for batch in _EndlessDataset(dataset):\n",
    "            records.append(batch)\n",
    "            if len(records) == chunk_size:\n",
    "                yield records\n",
    "                records = []\n",
    "    \n",
    "    for batches in _iterate_batches():\n",
    "        yield DataLoader(batches, batch_size=BATCH_SIZE)\n",
    "\n",
    "\n",
    "dataloader_test_generator = iter(_chunked_dataloader_iterator(dataset[\"test\"], TEST_ROLLING_WINDOW_SIZE))"
   ]
  },
  {
   "cell_type": "code",
   "execution_count": 11,
   "metadata": {},
   "outputs": [],
   "source": [
    "def _step_end(trainer, step, optimizer, losses, loss):\n",
    "    for loss_name, loss_value in losses.items():\n",
    "        tensorboard_writer.add_scalar(f\"Loss/{loss_name}\", loss_value.item(), step)\n",
    "    tensorboard_writer.add_scalar(\"Loss/total\", loss.item(), step)\n",
    "    tensorboard_writer.add_scalar(\"Learning Rate\", optimizer.param_groups[0]['lr'], step)"
   ]
  },
  {
   "cell_type": "code",
   "execution_count": 12,
   "metadata": {},
   "outputs": [],
   "source": [
    "def _chunk_end(trainer: ReloraTrainer, chunk, step):\n",
    "    print(f\"CHUNK {chunk} FINISHED AT STEP {step}\")\n",
    "    metrics = trainer.evaluate(next(dataloader_test_generator))\n",
    "    for metric_name, metric_value in metrics.items():\n",
    "        tensorboard_writer.add_scalar(f\"Evaluation Metrics/{metric_name}\", metric_value, step)\n",
    "    return StopCondition.CONTINUE"
   ]
  },
  {
   "cell_type": "code",
   "execution_count": 13,
   "metadata": {},
   "outputs": [],
   "source": [
    "def _global_lr(step):\n",
    "    if step < WARMUP_STEPS:\n",
    "        return step / WARMUP_STEPS\n",
    "    else:\n",
    "        return 1.0"
   ]
  },
  {
   "cell_type": "code",
   "execution_count": 14,
   "metadata": {},
   "outputs": [],
   "source": [
    "relora_config = ReLoRAConfig(\n",
    "    blacklisted_modules=[\"lm_head\"],\n",
    "    lora_rank=LORA_RANK,\n",
    "    optimizer_type=AdamW,\n",
    "    optimizer_kwargs={\n",
    "        \"lr\": LR,\n",
    "    },\n",
    "    reset_steps=RESET_STEPS,\n",
    "    chunk_warmup_steps=CHUNK_WARMUP_STEPS,\n",
    "    lr_global=_global_lr,\n",
    ")"
   ]
  },
  {
   "cell_type": "code",
   "execution_count": 15,
   "metadata": {},
   "outputs": [],
   "source": [
    "relora_events = ReLoRAEvents(\n",
    "    on_step_end=_step_end,\n",
    "    on_chunk_end=_chunk_end,\n",
    ")"
   ]
  },
  {
   "cell_type": "code",
   "execution_count": 16,
   "metadata": {},
   "outputs": [],
   "source": [
    "model = phi3_full_gradient_checkpoint_enable(model)"
   ]
  },
  {
   "cell_type": "code",
   "execution_count": 17,
   "metadata": {},
   "outputs": [],
   "source": [
    "trainer = ReloraTrainer(\n",
    "    model=model,\n",
    "    relora_config=relora_config,\n",
    "    events=relora_events,\n",
    "    losses_calculator=lm_losses_calculator(MAX_FULL_LOSSES_LENGTH),\n",
    "    model_kwargs={\n",
    "        \"output_hidden_states\": True,\n",
    "    },\n",
    "    checkpoint_directory=\"checkpoints\"\n",
    ")"
   ]
  },
  {
   "cell_type": "code",
   "execution_count": null,
   "metadata": {},
   "outputs": [
    {
     "name": "stderr",
     "output_type": "stream",
     "text": [
      "2024-11-01 16:50:13,125 - INFO - Starting training with continue_from_checkpoint=True\n",
      "2024-11-01 16:50:16,472 - INFO - Starting training on chunk 0 with start_step=0\n",
      "2024-11-01 16:50:18,329 - INFO - Optimizer initialized with kwargs={'lr': 1e-05}\n",
      "2024-11-01 17:00:00,526 - INFO - Completed training on chunk 0\n",
      "2024-11-01 17:00:01,650 - INFO - Saved checkpoint for chunk 0 at step 1000\n"
     ]
    },
    {
     "name": "stdout",
     "output_type": "stream",
     "text": [
      "CHUNK 0 FINISHED AT STEP 1000\n"
     ]
    },
    {
     "name": "stderr",
     "output_type": "stream",
     "text": [
      "2024-11-01 17:04:08,250 - INFO - Evaluation completed with average loss components: {'loss_lm': 9.086080551147461, 'kldiv_loss': 7.964767932891846, 'hidden_state_loss': 21.25, 'loss': 38.325599670410156}\n",
      "2024-11-01 17:04:13,526 - INFO - Starting training on chunk 1 with start_step=1000\n",
      "2024-11-01 17:04:14,899 - INFO - Optimizer initialized with kwargs={'lr': 1e-05}\n",
      "2024-11-01 17:14:39,591 - INFO - Completed training on chunk 1\n",
      "2024-11-01 17:14:40,733 - INFO - Saved checkpoint for chunk 1 at step 2000\n"
     ]
    },
    {
     "name": "stdout",
     "output_type": "stream",
     "text": [
      "CHUNK 1 FINISHED AT STEP 2000\n"
     ]
    },
    {
     "name": "stderr",
     "output_type": "stream",
     "text": [
      "2024-11-01 17:19:13,811 - INFO - Evaluation completed with average loss components: {'loss_lm': 7.435633659362793, 'kldiv_loss': 6.318731784820557, 'hidden_state_loss': 9.875, 'loss': 23.614429473876953}\n",
      "2024-11-01 17:19:15,326 - INFO - Starting training on chunk 2 with start_step=2000\n",
      "2024-11-01 17:19:16,675 - INFO - Optimizer initialized with kwargs={'lr': 1e-05}\n",
      "2024-11-01 17:30:39,162 - INFO - Completed training on chunk 2\n",
      "2024-11-01 17:30:40,335 - INFO - Saved checkpoint for chunk 2 at step 3000\n"
     ]
    },
    {
     "name": "stdout",
     "output_type": "stream",
     "text": [
      "CHUNK 2 FINISHED AT STEP 3000\n"
     ]
    },
    {
     "name": "stderr",
     "output_type": "stream",
     "text": [
      "2024-11-01 17:35:49,302 - INFO - Evaluation completed with average loss components: {'loss_lm': 7.12249231338501, 'kldiv_loss': 6.027544021606445, 'hidden_state_loss': 8.25, 'loss': 21.38494300842285}\n",
      "2024-11-01 17:35:54,380 - INFO - Starting training on chunk 3 with start_step=3000\n",
      "2024-11-01 17:35:55,733 - INFO - Optimizer initialized with kwargs={'lr': 1e-05}\n",
      "2024-11-01 17:48:21,008 - INFO - Completed training on chunk 3\n",
      "2024-11-01 17:48:22,171 - INFO - Saved checkpoint for chunk 3 at step 4000\n"
     ]
    },
    {
     "name": "stdout",
     "output_type": "stream",
     "text": [
      "CHUNK 3 FINISHED AT STEP 4000\n"
     ]
    },
    {
     "name": "stderr",
     "output_type": "stream",
     "text": [
      "2024-11-01 17:53:59,893 - INFO - Evaluation completed with average loss components: {'loss_lm': 6.629182815551758, 'kldiv_loss': 5.59841251373291, 'hidden_state_loss': 8.125, 'loss': 20.371562957763672}\n",
      "2024-11-01 17:54:04,257 - INFO - Starting training on chunk 4 with start_step=4000\n",
      "2024-11-01 17:54:05,599 - INFO - Optimizer initialized with kwargs={'lr': 1e-05}\n",
      "2024-11-01 18:07:27,753 - INFO - Completed training on chunk 4\n",
      "2024-11-01 18:07:28,933 - INFO - Saved checkpoint for chunk 4 at step 5000\n"
     ]
    },
    {
     "name": "stdout",
     "output_type": "stream",
     "text": [
      "CHUNK 4 FINISHED AT STEP 5000\n"
     ]
    },
    {
     "name": "stderr",
     "output_type": "stream",
     "text": [
      "2024-11-01 18:13:54,035 - INFO - Evaluation completed with average loss components: {'loss_lm': 6.41719913482666, 'kldiv_loss': 5.332680702209473, 'hidden_state_loss': 8.0625, 'loss': 19.790847778320312}\n",
      "2024-11-01 18:13:55,783 - INFO - Starting training on chunk 5 with start_step=5000\n",
      "2024-11-01 18:13:57,087 - INFO - Optimizer initialized with kwargs={'lr': 1e-05}\n"
     ]
    }
   ],
   "source": [
    "trainer.train(\n",
    "    dataloader_train,\n",
    "    continue_from_checkpoint=True,\n",
    ")"
   ]
  }
 ],
 "metadata": {
  "kernelspec": {
   "display_name": "quant-distillation",
   "language": "python",
   "name": "python3"
  },
  "language_info": {
   "codemirror_mode": {
    "name": "ipython",
    "version": 3
   },
   "file_extension": ".py",
   "mimetype": "text/x-python",
   "name": "python",
   "nbconvert_exporter": "python",
   "pygments_lexer": "ipython3",
   "version": "3.12.7"
  }
 },
 "nbformat": 4,
 "nbformat_minor": 2
}
